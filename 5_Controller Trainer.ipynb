{
 "cells": [
  {
   "cell_type": "markdown",
   "id": "a8f6c0af",
   "metadata": {},
   "source": [
    "# Controller Trainer\n",
    "(This part of the model does not involve any visual processing)"
   ]
  },
  {
   "cell_type": "markdown",
   "id": "306d8604",
   "metadata": {},
   "source": [
    "## Loading stuff into the kernel\n",
    "Import and training data"
   ]
  },
  {
   "cell_type": "code",
   "execution_count": 1,
   "id": "3ac06b00",
   "metadata": {},
   "outputs": [],
   "source": [
    "# imports\n",
    "import tensorflow.compat.v1.keras.backend as K\n",
    "import tensorflow as tf\n",
    "tf.compat.v1.disable_eager_execution()\n",
    "from tensorflow import keras\n",
    "from tensorflow.keras.layers import Conv2D, Conv2DTranspose, Input, Flatten, Dense, Lambda, Reshape, MaxPooling2D,LSTM, Dropout\n",
    "from tensorflow.keras.models import Model\n",
    "from tensorflow.keras import backend as K\n",
    "from tensorflow.keras.optimizers import Adam\n",
    "from tensorflow.keras.models import save_model\n",
    "import numpy as np\n",
    "import matplotlib.pyplot as plt\n",
    "import os\n",
    "import joblib\n",
    "import cv2\n",
    "import random\n",
    "import glob"
   ]
  },
  {
   "cell_type": "code",
   "execution_count": 2,
   "id": "d6f09e72",
   "metadata": {},
   "outputs": [],
   "source": [
    "# loading data\n",
    "data = joblib.load(\"images/train_data_controller.z\")"
   ]
  },
  {
   "cell_type": "code",
   "execution_count": 3,
   "id": "d2ff216a",
   "metadata": {},
   "outputs": [
    {
     "name": "stdout",
     "output_type": "stream",
     "text": [
      "[[-3.4742382e-01  1.4214687e+00  2.9589504e-01 ...  2.3236513e-02\n",
      "   9.7199380e-01  1.3059974e-03]] [22]\n"
     ]
    }
   ],
   "source": [
    "# formatting data\n",
    "# note: right now just flattens z and z' into 1 vector, the commented out code is to keep the two vectors seperate\n",
    "#   I couldn't figure out how to reduce a 2x2048 input into a 1d one in a neural net\n",
    "# train_data = np.array([np.array([p[0][0], p[1][0][0]]) for p in data])\n",
    "train_data = np.array([[np.concatenate((p[0][0], p[1][0][0]))] for p in data])\n",
    "answers = np.array([p[2] for p in data])\n",
    "print(train_data[0], answers[0])"
   ]
  },
  {
   "cell_type": "markdown",
   "id": "a6af03cc",
   "metadata": {},
   "source": [
    "## Building the Controller"
   ]
  },
  {
   "cell_type": "code",
   "execution_count": 4,
   "id": "a4bd76f0",
   "metadata": {},
   "outputs": [],
   "source": [
    "# Layers\n",
    "z_len = int(len(train_data[0][0])/2)\n",
    "a_len = len(answers[0])\n",
    "\n",
    "input_to_controller = Input(shape=(1, z_len*2))\n",
    "\n",
    "x = Dense(z_len)(input_to_controller)\n",
    "x = Dropout(0.2)(x)\n",
    "x = Dense(z_len/2)(x)\n",
    "x = Dropout(0.2)(x)\n",
    "x = Dense(z_len/4)(x)\n",
    "x = Dropout(0.2)(x)\n",
    "x = Dense(z_len/16)(x)\n",
    "x = Dropout(0.2)(x)\n",
    "\n",
    "output = Dense(a_len, activation='sigmoid')(x)"
   ]
  },
  {
   "cell_type": "code",
   "execution_count": 5,
   "id": "230c0b59",
   "metadata": {},
   "outputs": [],
   "source": [
    "cntrl = Model(input_to_controller, output, name='controller')"
   ]
  },
  {
   "cell_type": "code",
   "execution_count": 6,
   "id": "1dcd830a",
   "metadata": {},
   "outputs": [
    {
     "name": "stdout",
     "output_type": "stream",
     "text": [
      "Model: \"controller\"\n",
      "_________________________________________________________________\n",
      " Layer (type)                Output Shape              Param #   \n",
      "=================================================================\n",
      " input_1 (InputLayer)        [(None, 1, 4096)]         0         \n",
      "                                                                 \n",
      " dense (Dense)               (None, 1, 2048)           8390656   \n",
      "                                                                 \n",
      " dropout (Dropout)           (None, 1, 2048)           0         \n",
      "                                                                 \n",
      " dense_1 (Dense)             (None, 1, 1024)           2098176   \n",
      "                                                                 \n",
      " dropout_1 (Dropout)         (None, 1, 1024)           0         \n",
      "                                                                 \n",
      " dense_2 (Dense)             (None, 1, 512)            524800    \n",
      "                                                                 \n",
      " dropout_2 (Dropout)         (None, 1, 512)            0         \n",
      "                                                                 \n",
      " dense_3 (Dense)             (None, 1, 128)            65664     \n",
      "                                                                 \n",
      " dropout_3 (Dropout)         (None, 1, 128)            0         \n",
      "                                                                 \n",
      " dense_4 (Dense)             (None, 1, 1)              129       \n",
      "                                                                 \n",
      "=================================================================\n",
      "Total params: 11,079,425\n",
      "Trainable params: 11,079,425\n",
      "Non-trainable params: 0\n",
      "_________________________________________________________________\n"
     ]
    }
   ],
   "source": [
    "cntrl.summary()"
   ]
  },
  {
   "cell_type": "code",
   "execution_count": 7,
   "id": "dfde86c8",
   "metadata": {},
   "outputs": [],
   "source": [
    "cntrl.compile(optimizer='adam', loss='mean_squared_error')"
   ]
  },
  {
   "cell_type": "code",
   "execution_count": 8,
   "id": "de770455",
   "metadata": {},
   "outputs": [
    {
     "name": "stdout",
     "output_type": "stream",
     "text": [
      "Train on 603 samples, validate on 151 samples\n",
      "Epoch 1/10\n",
      "603/603 [==============================] - 2s 3ms/sample - loss: 441.9112 - val_loss: 441.0000\n",
      "Epoch 2/10\n",
      " 32/603 [>.............................] - ETA: 0s - loss: 441.0000"
     ]
    },
    {
     "name": "stderr",
     "output_type": "stream",
     "text": [
      "C:\\Users\\mattp\\anaconda3\\lib\\site-packages\\keras\\engine\\training_v1.py:2057: UserWarning: `Model.state_updates` will be removed in a future version. This property should not be used in TensorFlow 2.0, as `updates` are applied automatically.\n",
      "  updates = self.state_updates\n"
     ]
    },
    {
     "name": "stdout",
     "output_type": "stream",
     "text": [
      "603/603 [==============================] - 1s 2ms/sample - loss: 441.0000 - val_loss: 441.0000\n",
      "Epoch 3/10\n",
      "603/603 [==============================] - 1s 2ms/sample - loss: 441.0000 - val_loss: 441.0000\n",
      "Epoch 4/10\n",
      "603/603 [==============================] - 1s 2ms/sample - loss: 441.0000 - val_loss: 441.0000\n",
      "Epoch 5/10\n",
      "603/603 [==============================] - 1s 2ms/sample - loss: 441.0000 - val_loss: 441.0000\n",
      "Epoch 6/10\n",
      "603/603 [==============================] - 1s 2ms/sample - loss: 441.0000 - val_loss: 441.0000\n",
      "Epoch 7/10\n",
      "603/603 [==============================] - 1s 2ms/sample - loss: 441.0000 - val_loss: 441.0000\n",
      "Epoch 8/10\n",
      "603/603 [==============================] - 1s 2ms/sample - loss: 441.0000 - val_loss: 441.0000\n",
      "Epoch 9/10\n",
      "603/603 [==============================] - 1s 2ms/sample - loss: 441.0000 - val_loss: 441.0000\n",
      "Epoch 10/10\n",
      "603/603 [==============================] - 1s 2ms/sample - loss: 441.0000 - val_loss: 441.0000\n"
     ]
    },
    {
     "data": {
      "text/plain": [
       "<keras.callbacks.History at 0x20273865490>"
      ]
     },
     "execution_count": 8,
     "metadata": {},
     "output_type": "execute_result"
    }
   ],
   "source": [
    "# be sure to adjust numbers of epochs once data is better\n",
    "cntrl.fit(train_data, answers, epochs=10, verbose = 1, batch_size = 32, validation_split=0.2)"
   ]
  },
  {
   "cell_type": "code",
   "execution_count": 9,
   "id": "7d8fb119",
   "metadata": {},
   "outputs": [],
   "source": [
    "cntrl.save_weights('models/cntrl.h5')"
   ]
  }
 ],
 "metadata": {
  "kernelspec": {
   "display_name": "Python 3 (ipykernel)",
   "language": "python",
   "name": "python3"
  },
  "language_info": {
   "codemirror_mode": {
    "name": "ipython",
    "version": 3
   },
   "file_extension": ".py",
   "mimetype": "text/x-python",
   "name": "python",
   "nbconvert_exporter": "python",
   "pygments_lexer": "ipython3",
   "version": "3.9.7"
  }
 },
 "nbformat": 4,
 "nbformat_minor": 5
}
